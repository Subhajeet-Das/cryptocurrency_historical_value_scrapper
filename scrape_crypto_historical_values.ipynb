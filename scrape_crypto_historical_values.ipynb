{
  "nbformat": 4,
  "nbformat_minor": 0,
  "metadata": {
    "colab": {
      "name": "scrape_crypto_historical_values.ipynb",
      "provenance": [],
      "collapsed_sections": [],
      "authorship_tag": "ABX9TyNwjxvXt55QpoQrgy0E4HNt",
      "include_colab_link": true
    },
    "kernelspec": {
      "name": "python3",
      "display_name": "Python 3"
    }
  },
  "cells": [
    {
      "cell_type": "markdown",
      "metadata": {
        "id": "view-in-github",
        "colab_type": "text"
      },
      "source": [
        "<a href=\"https://colab.research.google.com/github/snowyTheHamster/cryptocurrency_historical_value_scrapper/blob/master/scrape_crypto_historical_values.ipynb\" target=\"_parent\"><img src=\"https://colab.research.google.com/assets/colab-badge.svg\" alt=\"Open In Colab\"/></a>"
      ]
    },
    {
      "cell_type": "markdown",
      "metadata": {
        "id": "bx7-hwFrblzy"
      },
      "source": [
        "### Get historic values of cryptocurrencies\r\n",
        "\r\n",
        "Scrape historic values of cryptocurrencies & save them to csv files.\r\n",
        "\r\n",
        "+ Make sure to check the TOS of the website you are scraping from.\r\n",
        "+ Use this script & the data pulled at your own risk.\r\n",
        "+ website: https://coincheckup.com/\r\n",
        "\r\n",
        "---\r\n",
        "\r\n",
        "### How to use\r\n",
        "**Prepare folders**\r\n",
        "\r\n",
        "+ Create a project folder in Google Drive.\r\n",
        "+ Create folder inside project folder to save csv files.\r\n",
        "\r\n",
        "**Adjust variables and settings in step 2**\r\n",
        "\r\n",
        "+ List the coins you want data for.\r\n",
        "\r\n",
        "+ Change start date you want for the historic values.\r\n",
        "\r\n",
        "+ Make sure the folders you created match the folder names here.\r\n",
        "\r\n",
        "**Run Code**\r\n",
        "\r\n",
        "+ Run each of the blocks in order 1 ~ 4."
      ]
    },
    {
      "cell_type": "markdown",
      "metadata": {
        "id": "eHMuyslobl5p"
      },
      "source": [
        "### 1. Mount Google Drive, installing packages"
      ]
    },
    {
      "cell_type": "code",
      "metadata": {
        "colab": {
          "base_uri": "https://localhost:8080/"
        },
        "id": "zlQU0CQBbmEF",
        "outputId": "c171e231-5686-4026-9836-ef537dd7c54b"
      },
      "source": [
        "from google.colab import drive\r\n",
        "import os\r\n",
        "\r\n",
        "# install chromium, its driver, and selenium\r\n",
        "!apt update\r\n",
        "!apt install chromium-chromedriver\r\n",
        "!pip install selenium\r\n",
        "\r\n",
        "from bs4 import BeautifulSoup\r\n",
        "import csv\r\n",
        "from datetime import date\r\n",
        "from time import sleep\r\n",
        "import random\r\n",
        "\r\n",
        "# set options to be headless, ..\r\n",
        "from selenium import webdriver\r\n",
        "from selenium.webdriver.common.by import By\r\n",
        "from selenium.webdriver.common.keys import Keys\r\n",
        "\r\n",
        "drive.mount('/content/drive/')"
      ],
      "execution_count": 14,
      "outputs": [
        {
          "output_type": "stream",
          "text": [
            "Hit:1 https://cloud.r-project.org/bin/linux/ubuntu bionic-cran40/ InRelease\n",
            "Ign:2 https://developer.download.nvidia.com/compute/cuda/repos/ubuntu1804/x86_64  InRelease\n",
            "Hit:3 http://security.ubuntu.com/ubuntu bionic-security InRelease\n",
            "Ign:4 https://developer.download.nvidia.com/compute/machine-learning/repos/ubuntu1804/x86_64  InRelease\n",
            "Hit:5 https://developer.download.nvidia.com/compute/cuda/repos/ubuntu1804/x86_64  Release\n",
            "Hit:6 http://ppa.launchpad.net/c2d4u.team/c2d4u4.0+/ubuntu bionic InRelease\n",
            "Hit:7 https://developer.download.nvidia.com/compute/machine-learning/repos/ubuntu1804/x86_64  Release\n",
            "Hit:8 http://ppa.launchpad.net/cran/libgit2/ubuntu bionic InRelease\n",
            "Hit:9 http://archive.ubuntu.com/ubuntu bionic InRelease\n",
            "Hit:10 http://ppa.launchpad.net/deadsnakes/ppa/ubuntu bionic InRelease\n",
            "Hit:11 http://archive.ubuntu.com/ubuntu bionic-updates InRelease\n",
            "Hit:13 http://archive.ubuntu.com/ubuntu bionic-backports InRelease\n",
            "Hit:14 http://ppa.launchpad.net/graphics-drivers/ppa/ubuntu bionic InRelease\n",
            "Reading package lists... Done\n",
            "Building dependency tree       \n",
            "Reading state information... Done\n",
            "49 packages can be upgraded. Run 'apt list --upgradable' to see them.\n",
            "Reading package lists... Done\n",
            "Building dependency tree       \n",
            "Reading state information... Done\n",
            "chromium-chromedriver is already the newest version (89.0.4389.82-0ubuntu0.18.04.1).\n",
            "0 upgraded, 0 newly installed, 0 to remove and 49 not upgraded.\n",
            "Requirement already satisfied: selenium in /usr/local/lib/python3.7/dist-packages (3.141.0)\n",
            "Requirement already satisfied: urllib3 in /usr/local/lib/python3.7/dist-packages (from selenium) (1.24.3)\n",
            "Drive already mounted at /content/drive/; to attempt to forcibly remount, call drive.mount(\"/content/drive/\", force_remount=True).\n"
          ],
          "name": "stdout"
        }
      ]
    },
    {
      "cell_type": "markdown",
      "metadata": {
        "id": "14ahm4cTbmMA"
      },
      "source": [
        "### 2. Adjust Settings Below"
      ]
    },
    {
      "cell_type": "code",
      "metadata": {
        "id": "7S-RjuHtbmST"
      },
      "source": [
        "# list of coins to check; make sure name is correct.\r\n",
        "currency_name_list = [\r\n",
        "    \"ethereum\",\r\n",
        "    \"bitcoin\",\r\n",
        "    \"cardano\",\r\n",
        "    \"nem\",\r\n",
        "    \"binance-coin\",\r\n",
        "    \"polkadot-new\",\r\n",
        "    \"stellar\",\r\n",
        "    \"xrp\",\r\n",
        "    ]\r\n",
        "\r\n",
        "start_date = '2017-03-01'\r\n",
        "\r\n",
        "# Make sure folder names match what you created in google drive\r\n",
        "project_folder = 'crypto_folder'\r\n",
        "output_folder = 'historic_values'\r\n",
        "\r\n",
        "\r\n",
        "# dont need to change these\r\n",
        "work_dir = os.path.join('/content/drive/My Drive/', project_folder)\r\n",
        "OUTPUT_DIR = os.path.join(work_dir, output_folder)\r\n",
        "end_date = str(date.today())"
      ],
      "execution_count": 15,
      "outputs": []
    },
    {
      "cell_type": "markdown",
      "metadata": {
        "id": "JQOOfz37bmY3"
      },
      "source": [
        "### 3. Run Script"
      ]
    },
    {
      "cell_type": "code",
      "metadata": {
        "colab": {
          "base_uri": "https://localhost:8080/"
        },
        "id": "WoOgdULObmeO",
        "outputId": "31244262-4ce5-43fd-a04b-03f3aff2fee1"
      },
      "source": [
        "page_counter = 1 # track number of currencies to download\r\n",
        "for currency_name in currency_name_list:\r\n",
        "  options = webdriver.ChromeOptions()\r\n",
        "  options.add_argument('--headless')\r\n",
        "  options.add_argument('--no-sandbox')\r\n",
        "  options.add_argument('--disable-dev-shm-usage')\r\n",
        "\r\n",
        "  driver = webdriver.Chrome(options=options)\r\n",
        "  driver.get(f\"https://coincheckup.com/coins/{currency_name}/charts\")\r\n",
        "  sleep(10) # let's wait until the page loads\r\n",
        "\r\n",
        "  # input date range here to generate table\r\n",
        "  date_picker = driver.find_element(By.XPATH, '//input[@ng-model=\"dateHistory\"]')\r\n",
        "  date_picker.click()\r\n",
        "  sleep(1)\r\n",
        "  date_picker.send_keys(Keys.CONTROL, 'a')\r\n",
        "  sleep(0.5)\r\n",
        "  date_picker.send_keys(Keys.DELETE)\r\n",
        "  sleep(0.5)\r\n",
        "  date_picker.send_keys(start_date)\r\n",
        "  sleep(0.5)\r\n",
        "  date_picker.send_keys(' - ')\r\n",
        "  sleep(0.5)\r\n",
        "  date_picker.send_keys(end_date)\r\n",
        "  sleep(2)\r\n",
        "  date_picker.send_keys(Keys.ENTER)\r\n",
        "\r\n",
        "  sleep(10) # let's wait for the data table the fully generate\r\n",
        "\r\n",
        "  page_source = driver.page_source # prepare page for beautiful soup to scrape\r\n",
        "\r\n",
        "  soup = BeautifulSoup(page_source, 'html.parser')\r\n",
        "  price_table = soup.find(\"table\",{\"class\":\"table dataTable\"})\r\n",
        "\r\n",
        "  # saves table data to csv file\r\n",
        "  with open(f\"{OUTPUT_DIR}/{currency_name}_price.csv\", \"w\") as ofile:\r\n",
        "      print(f'save CSV data for {currency_name} from {start_date} to {end_date}... coin:{page_counter}/{len(currency_name_list)}')\r\n",
        "      writer = csv.writer(ofile)\r\n",
        "      rows = price_table.find_all(\"tr\")\r\n",
        "      for row in rows:\r\n",
        "          csv_row = []\r\n",
        "          for cell in row.findAll([\"td\", \"th\"]):\r\n",
        "              csv_row.append(cell.get_text())\r\n",
        "          writer.writerow(csv_row)\r\n",
        "\r\n",
        "  driver.quit()\r\n",
        "\r\n",
        "  # pause after each page request to prevent bann, except on last page\r\n",
        "  if page_counter < len(currency_name_list):\r\n",
        "      n = random.randint(7, 15)\r\n",
        "      for i in range(n):\r\n",
        "          print(f'pausing {n} seconds before accessing next page')\r\n",
        "          sleep(1)\r\n",
        "          n -= 1\r\n",
        "  else:\r\n",
        "      print('finished attempting to download CSV data for all coins')\r\n",
        "\r\n",
        "  page_counter += 1 # increment page_counter by 1\r\n",
        "\r\n"
      ],
      "execution_count": 16,
      "outputs": [
        {
          "output_type": "stream",
          "text": [
            "save CSV data for ethereum from 2017-03-01 to 2021-03-18... coin:1/2\n",
            "pausing 8 seconds before accessing next page\n",
            "pausing 7 seconds before accessing next page\n",
            "pausing 6 seconds before accessing next page\n",
            "pausing 5 seconds before accessing next page\n",
            "pausing 4 seconds before accessing next page\n",
            "pausing 3 seconds before accessing next page\n",
            "pausing 2 seconds before accessing next page\n",
            "pausing 1 seconds before accessing next page\n",
            "save CSV data for bitcoin from 2017-03-01 to 2021-03-18... coin:2/2\n",
            "finished attempting to download CSV data for all coins\n"
          ],
          "name": "stdout"
        }
      ]
    },
    {
      "cell_type": "markdown",
      "metadata": {
        "id": "YdXZyrlCbmud"
      },
      "source": [
        "### 4. Unmount Google Drive"
      ]
    },
    {
      "cell_type": "code",
      "metadata": {
        "colab": {
          "base_uri": "https://localhost:8080/"
        },
        "id": "Ttcf9FBwbm0i",
        "outputId": "9391d909-d354-46fe-c278-f4484107713b"
      },
      "source": [
        "drive.flush_and_unmount()\r\n",
        "print('All changes made in this colab session should now be visible in Drive.')"
      ],
      "execution_count": 17,
      "outputs": [
        {
          "output_type": "stream",
          "text": [
            "All changes made in this colab session should now be visible in Drive.\n"
          ],
          "name": "stdout"
        }
      ]
    }
  ]
}